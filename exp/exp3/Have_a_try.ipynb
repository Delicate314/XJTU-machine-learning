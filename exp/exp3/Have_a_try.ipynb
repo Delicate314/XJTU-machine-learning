{
 "cells": [
  {
   "cell_type": "code",
   "execution_count": 53,
   "id": "1087446c-51af-433f-ba0f-9f7264171014",
   "metadata": {},
   "outputs": [],
   "source": [
    "from sklearn.decomposition import PCA\n",
    "\n",
    "from sklearn.model_selection import train_test_split\n",
    "import mindspore.dataset as ds\n",
    "import mindspore.dataset.vision.c_transforms as C\n",
    "\n",
    "import matplotlib.pyplot as plt"
   ]
  },
  {
   "cell_type": "code",
   "execution_count": 41,
   "id": "b7a3a64b-2b6c-4b79-b4fd-aa26cc42b038",
   "metadata": {},
   "outputs": [],
   "source": [
    "def visualize(X, y, y_pred, title=None):\n",
    "    # 可视化,pca降维或者tsne\n",
    "\n",
    "    pca = PCA(n_components=2)\n",
    "    X_dim_reduction = pca.fit_transform(X)\n",
    "\n",
    "    # print(X_dim_reduction.shape)\n",
    "    plt.figure(figsize=(10, 12))\n",
    "\n",
    "    def get_color(y):\n",
    "        color_dict = {-1: 'white', 0: 'red', 1: 'orange', 2: 'yellow', 3: 'green', 4: 'magenta', \n",
    "                      5: 'blue', 6: 'cyan', 7: 'brown', 8: 'purple', 9: 'aquamarine'}\n",
    "        color = []\n",
    "        for i in range(y.shape[0]):\n",
    "            color.append(color_dict.get(y[i].item(), 'olive'))\n",
    "        return color\n",
    "    fig, axs = plt.subplots(1, 2, figsize=(12, 6))\n",
    "\n",
    "    axs[0].set_title('origin data')\n",
    "    axs[0].scatter(X_dim_reduction[:, 0], X_dim_reduction[:, 1], c=get_color(y), edgecolors='black')\n",
    "\n",
    "    axs[1].set_title('cluster result')\n",
    "    axs[1].scatter(X_dim_reduction[:, 0], X_dim_reduction[:, 1], c=get_color(y_pred), edgecolors='black')\n",
    "\n",
    "    plt.show()"
   ]
  },
  {
   "cell_type": "code",
   "execution_count": 37,
   "id": "63a364cd-ca58-43ba-893b-3cb85c156427",
   "metadata": {},
   "outputs": [],
   "source": [
    "def get_dataset(split, num):\n",
    "    data_path = './datasets/MNIST_Data/' + split\n",
    "    dataset = ds.MnistDataset(data_path)\n",
    "    dataset = dataset.batch(num)\n",
    "    iterator_show = dataset.create_dict_iterator()\n",
    "    dict_data = next(iterator_show)\n",
    "    \n",
    "    image_transforms = [\n",
    "        C.Rescale(1.0 / 255.0, 0),\n",
    "        C.Normalize(mean=(0.1307,), std=(0.3081,)),\n",
    "        C.HWC2CHW()\n",
    "    ]\n",
    "    dataset = dataset.map(image_transforms, 'image')\n",
    "\n",
    "    x = dict_data[\"image\"].reshape(num, -1).asnumpy()\n",
    "    y = dict_data[\"label\"].asnumpy()\n",
    "    X_train, X_test, y_train, y_test = train_test_split(x, y, test_size=0.2, random_state=42)\n",
    "\n",
    "    # pca = PCA(n_components=8)\n",
    "    # X_train = pca.fit_transform(X_train)\n",
    "    # X_test = pca.fit_transform(X_test)\n",
    "    \n",
    "    return X_train, X_test, y_train, y_test"
   ]
  },
  {
   "cell_type": "code",
   "execution_count": null,
   "id": "e2d972c7-5b21-4e96-b2dc-f3d0f73d2e13",
   "metadata": {},
   "outputs": [],
   "source": [
    "X_train, X_test, y_train, y_test = get_dataset(\"train\", 1000)"
   ]
  },
  {
   "cell_type": "code",
   "execution_count": null,
   "id": "359e097a",
   "metadata": {},
   "outputs": [],
   "source": [
    "# 用sklearn实验传统分类算法，包括决策树、随机森林、SVM、KNN、贝叶斯等（用其中的3个就行了）"
   ]
  }
 ],
 "metadata": {
  "kernelspec": {
   "display_name": "MindSpore",
   "language": "python",
   "name": "mindspore"
  },
  "language_info": {
   "codemirror_mode": {
    "name": "ipython",
    "version": 3
   },
   "file_extension": ".py",
   "mimetype": "text/x-python",
   "name": "python",
   "nbconvert_exporter": "python",
   "pygments_lexer": "ipython3",
   "version": "3.7.10"
  }
 },
 "nbformat": 4,
 "nbformat_minor": 5
}
